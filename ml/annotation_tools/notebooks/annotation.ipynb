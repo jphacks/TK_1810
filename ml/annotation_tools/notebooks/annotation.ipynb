{
 "cells": [
  {
   "cell_type": "code",
   "execution_count": 1,
   "metadata": {
    "collapsed": true
   },
   "outputs": [],
   "source": [
    "from path import Path\n",
    "from PIL import Image\n",
    "import cv2\n",
    "import random\n",
    "import pandas as pd\n",
    "import pickle"
   ]
  },
  {
   "cell_type": "code",
   "execution_count": 2,
   "metadata": {
    "collapsed": true
   },
   "outputs": [],
   "source": [
    "def arg_parse():\n",
    "    parser = argparse.ArgumentParser()\n",
    "    parser = argparse.ArgumentParser(\n",
    "                        prog=\"annotation.py\", \n",
    "                        usage=\"annotation.py -n <<num_of_evaluation>>\", \n",
    "                        description=\"\", \n",
    "                        add_help = True \n",
    "                        )\n",
    "\n",
    "    parser.add_argument(\"-n\", \"--num\", \n",
    "                        help = \"num of evaluation\",\n",
    "                        type = int,\n",
    "                        default = None)\n",
    "    \n",
    "    args = parser.parse_args()\n",
    "    return args\n"
   ]
  },
  {
   "cell_type": "code",
   "execution_count": 3,
   "metadata": {
    "collapsed": true
   },
   "outputs": [],
   "source": [
    "def get_filepath_list(dir_path):\n",
    "    imgs = Path(dir_path).files('*.png')\n",
    "    imgs += Path(dir_path).files('*.jpg')\n",
    "    imgs += Path(dir_path).files('*.jpeg')\n",
    "    \n",
    "    return imgs"
   ]
  },
  {
   "cell_type": "code",
   "execution_count": 4,
   "metadata": {
    "collapsed": true
   },
   "outputs": [],
   "source": [
    "def hconcat_resize_min(im_list, interpolation=cv2.INTER_CUBIC):\n",
    "    h_min = min(im.shape[0] for im in im_list)\n",
    "    im_list_resize = [cv2.resize(im, (int(im.shape[1] * h_min / im.shape[0]), h_min), interpolation=interpolation)\n",
    "                      for im in im_list]\n",
    "    return cv2.hconcat(im_list_resize)"
   ]
  },
  {
   "cell_type": "code",
   "execution_count": 5,
   "metadata": {
    "collapsed": true
   },
   "outputs": [],
   "source": [
    "def evaluate_images(path_list, rand=False, n_shows=None, username=None):\n",
    "    \n",
    "    df = pd.DataFrame(columns=['filename', 'score', 'user'])\n",
    "    filename_list = []\n",
    "    score_list = []\n",
    "    rep_list = [ord(str(i)) for i in range(1, 6)]\n",
    "    key_q = ord('q')\n",
    "    \n",
    "    if rand:\n",
    "        path_list = random.sample(path_list, len(path_list))\n",
    "        \n",
    "    if n_shows is None:\n",
    "        n_shows = len(path_list)\n",
    "        \n",
    "    for path in path_list[:n_shows]:\n",
    "        img = cv2.imread(path)\n",
    "        cv2.namedWindow(\"image\", cv2.WINDOW_KEEPRATIO | cv2.WINDOW_NORMAL)\n",
    "        cv2.resizeWindow('image', 800, 600)\n",
    "        cv2.imshow('image', img)\n",
    "        \n",
    "        key = 0\n",
    "        while ((key not in rep_list) and key is not key_q):\n",
    "            key = cv2.waitKey(0)\n",
    "        cv2.destroyWindow('image')\n",
    "        \n",
    "        if key is key_q:\n",
    "            break\n",
    "        \n",
    "        filename_list.append(path.rsplit('/')[-1])\n",
    "        score_list.append(rep_list.index(key)+1)\n",
    "    \n",
    "    df = pd.DataFrame()\n",
    "    df['filename'] = filename_list\n",
    "    df['score'] = score_list\n",
    "    df['user'] = username\n",
    "    \n",
    "    return df"
   ]
  },
  {
   "cell_type": "code",
   "execution_count": 6,
   "metadata": {
    "collapsed": true
   },
   "outputs": [],
   "source": [
    "def evaluate_images_relative(path_list, combination_list, username=None):\n",
    "    df = pd.DataFrame(columns=['filename', 'score', 'user'])\n",
    "    filename_list = [path.rsplit('/')[-1] for path in path_list]\n",
    "    score_list = [0 for i in range(len(path_list))]\n",
    "    num_evals = [0 for i in range(len(path_list))]\n",
    "    \n",
    "    key_f, key_j, key_q = ord('f'), ord('j'), ord('q')\n",
    "    rep_list = [key_f, key_j, key_q]\n",
    "    end_flag = False\n",
    "    \n",
    "    for i, c_list in enumerate(combination_list):\n",
    "        img1 = cv2.imread(path_list[i])\n",
    "        for c in c_list:\n",
    "            img2 = cv2.imread(path_list[c])\n",
    "            merged = hconcat_resize_min([img1, img2])\n",
    "            \n",
    "            cv2.namedWindow(\"image\", cv2.WINDOW_KEEPRATIO | cv2.WINDOW_NORMAL)\n",
    "            cv2.resizeWindow('image', 1200, 450)\n",
    "            cv2.moveWindow('image', 100, 200)\n",
    "            cv2.imshow('image', merged)\n",
    "            \n",
    "            key = 0\n",
    "            while key not in rep_list:\n",
    "                key = cv2.waitKey(0)\n",
    "            cv2.destroyWindow('image')\n",
    "            \n",
    "            if key is key_f:\n",
    "                score_list[i] = score_list[i] + 1\n",
    "                num_evals[i] = num_evals[i] + 1\n",
    "                num_evals[c] = num_evals[c] + 1\n",
    "            elif key is key_j:\n",
    "                score_list[c] = score_list[c] + 1\n",
    "                num_evals[i] = num_evals[i] + 1\n",
    "                num_evals[c] = num_evals[c] + 1\n",
    "            else:\n",
    "                end_flag = True\n",
    "                break\n",
    "                \n",
    "            combination_list[c].remove(i)\n",
    "                \n",
    "        if end_flag:\n",
    "            break\n",
    "\n",
    "    df = pd.DataFrame()\n",
    "    df['filename'] = filename_list\n",
    "    df['score'] = score_list\n",
    "    df['num_of_evaluations'] = num_evals\n",
    "    df['user'] = username\n",
    "    \n",
    "    return df"
   ]
  },
  {
   "cell_type": "code",
   "execution_count": 7,
   "metadata": {},
   "outputs": [],
   "source": [
    "def evaluate_images_relative_random(path_list, random_combination_list, start_pos, num=None, username=None):\n",
    "    \n",
    "    df = pd.DataFrame(columns=['filename', 'score', 'user'])\n",
    "    filename_list = [path.rsplit('/')[-1] for path in path_list]\n",
    "    score_list = [0 for i in range(len(path_list))]\n",
    "    num_evals = [0 for i in range(len(path_list))]\n",
    "    \n",
    "    key_f, key_j, key_q = ord('f'), ord('j'), ord('q')\n",
    "    rep_list = [key_f, key_j, key_q]\n",
    "    end_flag = False\n",
    "    font = cv2.FONT_HERSHEY_SIMPLEX\n",
    "    \n",
    "    if num is None:\n",
    "        num = len(combination_list)\n",
    "    \n",
    "    for count, (i, j) in enumerate(random_combination_list[start_pos:num]):\n",
    "        s1, s2 = random.sample([i, j], 2)\n",
    "        img1 = cv2.imread(path_list[s1])\n",
    "        img2 = cv2.imread(path_list[s2])\n",
    "        merged = hconcat_resize_min([img1, img2])\n",
    "        \n",
    "        cv2.namedWindow(\"image\", cv2.WINDOW_KEEPRATIO | cv2.WINDOW_NORMAL)\n",
    "        cv2.resizeWindow('image', 1200, 450)\n",
    "        cv2.moveWindow('image', 100, 200)\n",
    "        text_pos = (merged.shape[1] - 250, merged.shape[0] - 50)\n",
    "        cv2.putText(merged, \"{}/{}\".format(count+1, len(random_combination_list)), text_pos, font, 1.5, (0, 0, 0), 2, cv2.LINE_AA)\n",
    "        cv2.imshow('image', merged)\n",
    "\n",
    "        key = 0\n",
    "        while key not in rep_list:\n",
    "            key = cv2.waitKey(0)\n",
    "        cv2.destroyWindow('image')\n",
    "\n",
    "        if key is key_f:\n",
    "            score_list[s1] = score_list[s1] + 1\n",
    "            num_evals[s1] = num_evals[s1] + 1\n",
    "            num_evals[s2] = num_evals[s2] + 1\n",
    "        elif key is key_j:\n",
    "            score_list[s2] = score_list[s2] + 1\n",
    "            num_evals[s1] = num_evals[s1] + 1\n",
    "            num_evals[s2] = num_evals[s2] + 1\n",
    "        else:\n",
    "            end_flag = True\n",
    "            break\n",
    "\n",
    "        if end_flag:\n",
    "            break\n",
    "\n",
    "    df = pd.DataFrame()\n",
    "    df['filename'] = filename_list\n",
    "    df['score'] = score_list\n",
    "    df['num_of_evaluations'] = num_evals\n",
    "    df['user'] = username\n",
    "    \n",
    "    return df"
   ]
  },
  {
   "cell_type": "code",
   "execution_count": 8,
   "metadata": {
    "collapsed": true
   },
   "outputs": [],
   "source": [
    "def save_evaluation_csv(df, username, save_path=None):\n",
    "    if save_path is None:\n",
    "        save_path = '../output/test/' + username + '.csv'\n",
    "    df.to_csv(save_path)"
   ]
  },
  {
   "cell_type": "code",
   "execution_count": 9,
   "metadata": {},
   "outputs": [],
   "source": [
    "def main():\n",
    "    print('Please write your name : ', end='')\n",
    "    username = input()\n",
    "    filepath_list = get_filepath_list('./images')\n",
    "    df_result = evaluate_images(filepath_list, rand=True, username=username)\n",
    "    save_evaluation_csv(df_result, username)\n",
    "    print('Thank you!')\n",
    "    \n",
    "def main_relative():\n",
    "    print('Please write your name : ', end='')\n",
    "    username = input()\n",
    "    filepath_list = get_filepath_list('./images/omelette_rice/')[:50]\n",
    "    with open('./pickle/combination_list.pickle', 'rb') as f:\n",
    "        combination_list = pickle.load(f)\n",
    "    df_result = evaluate_images_relative(filepath_list, combination_list, username=username)\n",
    "    save_evaluation_csv(df_result, username)\n",
    "    print('Thank you!')\n",
    "    \n",
    "def main_relative_random():\n",
    "    print('Please enter your name : ', end='')\n",
    "    username = input()\n",
    "    print('Please enter the number of evaluate : ', end='')\n",
    "    num = int(input()) * 10\n",
    "    filepath_list = get_filepath_list('../images/omelette_rice_500/images/')\n",
    "    \n",
    "    try:\n",
    "        with open('../pickle/start_position.pickle', 'rb') as f:\n",
    "            start_pos = pickle.load(f)\n",
    "    except:\n",
    "        start_pos = 0\n",
    "        \n",
    "    with open('../pickle/rand_combination500_list.pickle', 'rb') as f:\n",
    "        random_combination_list = pickle.load(f)\n",
    "        \n",
    "    df_result = evaluate_images_relative_random(filepath_list, random_combination_list, start_pos, num, username=username)\n",
    "    save_evaluation_csv(df_result, username)\n",
    "    \n",
    "    with open('../pickle/start_position.pickle', 'wb') as f:\n",
    "        start_pos = (start_pos + num) % 500\n",
    "        pickle.dump(start_pos, f)\n",
    "        \n",
    "    print('Thank you!')"
   ]
  },
  {
   "cell_type": "code",
   "execution_count": null,
   "metadata": {
    "scrolled": false
   },
   "outputs": [],
   "source": [
    "if __name__=='__main__':\n",
    "    main_relative_random()"
   ]
  },
  {
   "cell_type": "code",
   "execution_count": null,
   "metadata": {
    "collapsed": true
   },
   "outputs": [],
   "source": []
  }
 ],
 "metadata": {
  "kernelspec": {
   "display_name": "Python 3",
   "language": "python",
   "name": "python3"
  },
  "language_info": {
   "codemirror_mode": {
    "name": "ipython",
    "version": 3
   },
   "file_extension": ".py",
   "mimetype": "text/x-python",
   "name": "python",
   "nbconvert_exporter": "python",
   "pygments_lexer": "ipython3",
   "version": "3.6.3"
  }
 },
 "nbformat": 4,
 "nbformat_minor": 2
}
