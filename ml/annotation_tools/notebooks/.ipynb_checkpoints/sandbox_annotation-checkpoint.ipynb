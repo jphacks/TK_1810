{
 "cells": [
  {
   "cell_type": "markdown",
   "metadata": {},
   "source": [
    "### sandbox"
   ]
  },
  {
   "cell_type": "code",
   "execution_count": 1,
   "metadata": {
    "collapsed": true
   },
   "outputs": [],
   "source": [
    "from path import Path\n",
    "from PIL import Image\n",
    "import cv2\n",
    "import random\n",
    "import pandas as pd\n",
    "import pickle"
   ]
  },
  {
   "cell_type": "code",
   "execution_count": 2,
   "metadata": {
    "collapsed": true
   },
   "outputs": [],
   "source": [
    "def reset_start_position(value=0):    \n",
    "    with open('../pickle/start_position.pickle', 'wb') as f:\n",
    "        start_pos = value\n",
    "        pickle.dump(start_pos, f)\n",
    "        \n",
    "reset_start_position(value=2450)"
   ]
  },
  {
   "cell_type": "code",
   "execution_count": 3,
   "metadata": {},
   "outputs": [
    {
     "data": {
      "text/plain": [
       "2450"
      ]
     },
     "execution_count": 3,
     "metadata": {},
     "output_type": "execute_result"
    }
   ],
   "source": [
    "try:\n",
    "    with open('../pickle/start_position.pickle', 'rb') as f:\n",
    "        start_pos = pickle.load(f)\n",
    "except:\n",
    "    start_pos = 0\n",
    "    \n",
    "start_pos"
   ]
  },
  {
   "cell_type": "code",
   "execution_count": 4,
   "metadata": {},
   "outputs": [
    {
     "name": "stdout",
     "output_type": "stream",
     "text": [
      "450\n"
     ]
    },
    {
     "data": {
      "text/plain": [
       "450"
      ]
     },
     "execution_count": 4,
     "metadata": {},
     "output_type": "execute_result"
    }
   ],
   "source": [
    "tmp = [0 for _ in range(500)]\n",
    "num = 3000\n",
    "with open('../pickle/start_position.pickle', 'wb') as f:\n",
    "    start_pos = int((start_pos + num) % (len(tmp) * 10 / 2))\n",
    "    print(start_pos)\n",
    "    pickle.dump(start_pos, f)\n",
    "    \n",
    "try:\n",
    "    with open('../pickle/start_position.pickle', 'rb') as f:\n",
    "        start_pos = pickle.load(f)\n",
    "except:\n",
    "    start_pos = 0\n",
    "    \n",
    "start_pos"
   ]
  },
  {
   "cell_type": "code",
   "execution_count": 5,
   "metadata": {},
   "outputs": [
    {
     "data": {
      "text/plain": [
       "0"
      ]
     },
     "execution_count": 5,
     "metadata": {},
     "output_type": "execute_result"
    }
   ],
   "source": [
    "def reset_start_position(value=0):    \n",
    "    with open('../pickle/start_position.pickle', 'wb') as f:\n",
    "        start_pos = value\n",
    "        pickle.dump(start_pos, f)\n",
    "        \n",
    "reset_start_position()\n",
    "with open('../pickle/start_position.pickle', 'rb') as f:\n",
    "    start_pos = pickle.load(f)\n",
    "start_pos"
   ]
  },
  {
   "cell_type": "code",
   "execution_count": 6,
   "metadata": {},
   "outputs": [
    {
     "name": "stdout",
     "output_type": "stream",
     "text": [
      "0\n"
     ]
    }
   ],
   "source": [
    "def check_start_position():\n",
    "    with open('../pickle/start_position.pickle', 'rb') as f:\n",
    "        start_pos = pickle.load(f)\n",
    "        \n",
    "    print(start_pos)\n",
    "    \n",
    "check_start_position()"
   ]
  },
  {
   "cell_type": "code",
   "execution_count": 7,
   "metadata": {
    "collapsed": true
   },
   "outputs": [],
   "source": [
    "def create_new_dataframe(path_list):\n",
    "    df = pd.DataFrame(columns=['filename', 'score', 'num_of_evaluations'])\n",
    "    df['filename'] = [path.rsplit('/')[-1] for path in path_list]\n",
    "    df['score'] = [0 for i in range(len(path_list))]\n",
    "    df['num_of_evaluations'] = [0 for i in range(len(path_list))]\n",
    "    \n",
    "    return df"
   ]
  },
  {
   "cell_type": "code",
   "execution_count": 8,
   "metadata": {
    "collapsed": true
   },
   "outputs": [],
   "source": [
    "def df_reset():\n",
    "    df = pd.DataFrame(columns=['filename', 'score', 'num_of_evaluations'])\n",
    "    filepath_list = get_filepath_list('../images/omelette_rice_500/images/')\n",
    "    df['filename'] = [path.rsplit('/')[-1] for path in filepath_list]\n",
    "    df['score'] = [0 for i in range(len(filepath_list))]\n",
    "    df['num_of_evaluations'] = [0 for i in range(len(filepath_list))]\n",
    "    df.to_csv('../output/df_omelette500_all.csv')"
   ]
  },
  {
   "cell_type": "code",
   "execution_count": 9,
   "metadata": {
    "collapsed": true
   },
   "outputs": [],
   "source": [
    "def data_reset():\n",
    "    reset_start_position()\n",
    "    df_reset()\n",
    "    \n",
    "# data_reset()"
   ]
  },
  {
   "cell_type": "code",
   "execution_count": 10,
   "metadata": {
    "collapsed": true
   },
   "outputs": [],
   "source": [
    "def df_check():\n",
    "    df = pd.read_csv('../output/df_omelette500_all.csv')\n",
    "    return df\n",
    "\n",
    "df_test = df_check()"
   ]
  },
  {
   "cell_type": "code",
   "execution_count": 12,
   "metadata": {},
   "outputs": [
    {
     "data": {
      "text/html": [
       "<div>\n",
       "<style scoped>\n",
       "    .dataframe tbody tr th:only-of-type {\n",
       "        vertical-align: middle;\n",
       "    }\n",
       "\n",
       "    .dataframe tbody tr th {\n",
       "        vertical-align: top;\n",
       "    }\n",
       "\n",
       "    .dataframe thead th {\n",
       "        text-align: right;\n",
       "    }\n",
       "</style>\n",
       "<table border=\"1\" class=\"dataframe\">\n",
       "  <thead>\n",
       "    <tr style=\"text-align: right;\">\n",
       "      <th></th>\n",
       "      <th>Unnamed: 0</th>\n",
       "      <th>filename</th>\n",
       "      <th>score</th>\n",
       "      <th>num_of_evaluations</th>\n",
       "    </tr>\n",
       "  </thead>\n",
       "  <tbody>\n",
       "    <tr>\n",
       "      <th>5</th>\n",
       "      <td>5</td>\n",
       "      <td>BpOxhqgHXhH.jpg</td>\n",
       "      <td>0</td>\n",
       "      <td>0</td>\n",
       "    </tr>\n",
       "    <tr>\n",
       "      <th>6</th>\n",
       "      <td>6</td>\n",
       "      <td>BpQcEq-jaSU.jpg</td>\n",
       "      <td>0</td>\n",
       "      <td>0</td>\n",
       "    </tr>\n",
       "    <tr>\n",
       "      <th>7</th>\n",
       "      <td>7</td>\n",
       "      <td>BpO6VfblVhx.jpg</td>\n",
       "      <td>0</td>\n",
       "      <td>0</td>\n",
       "    </tr>\n",
       "    <tr>\n",
       "      <th>8</th>\n",
       "      <td>8</td>\n",
       "      <td>BpO6T_-h44C.jpg</td>\n",
       "      <td>0</td>\n",
       "      <td>0</td>\n",
       "    </tr>\n",
       "    <tr>\n",
       "      <th>9</th>\n",
       "      <td>9</td>\n",
       "      <td>BpOryjSg3rF.jpg</td>\n",
       "      <td>0</td>\n",
       "      <td>0</td>\n",
       "    </tr>\n",
       "  </tbody>\n",
       "</table>\n",
       "</div>"
      ],
      "text/plain": [
       "   Unnamed: 0         filename  score  num_of_evaluations\n",
       "5           5  BpOxhqgHXhH.jpg      0                   0\n",
       "6           6  BpQcEq-jaSU.jpg      0                   0\n",
       "7           7  BpO6VfblVhx.jpg      0                   0\n",
       "8           8  BpO6T_-h44C.jpg      0                   0\n",
       "9           9  BpOryjSg3rF.jpg      0                   0"
      ]
     },
     "execution_count": 12,
     "metadata": {},
     "output_type": "execute_result"
    }
   ],
   "source": [
    "df_test[df_test['num_of_evaluations']<10].head()"
   ]
  },
  {
   "cell_type": "code",
   "execution_count": null,
   "metadata": {
    "collapsed": true
   },
   "outputs": [],
   "source": []
  }
 ],
 "metadata": {
  "kernelspec": {
   "display_name": "Python 3",
   "language": "python",
   "name": "python3"
  },
  "language_info": {
   "codemirror_mode": {
    "name": "ipython",
    "version": 3
   },
   "file_extension": ".py",
   "mimetype": "text/x-python",
   "name": "python",
   "nbconvert_exporter": "python",
   "pygments_lexer": "ipython3",
   "version": "3.6.3"
  }
 },
 "nbformat": 4,
 "nbformat_minor": 2
}
