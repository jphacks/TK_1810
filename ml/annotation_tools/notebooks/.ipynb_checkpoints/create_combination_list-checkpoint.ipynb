{
 "cells": [
  {
   "cell_type": "code",
   "execution_count": 3,
   "metadata": {
    "collapsed": true
   },
   "outputs": [],
   "source": [
    "import numpy as np\n",
    "import random\n",
    "import pickle"
   ]
  },
  {
   "cell_type": "code",
   "execution_count": 4,
   "metadata": {
    "collapsed": true
   },
   "outputs": [],
   "source": [
    "def get_combination_list(n, k):\n",
    "    image_list = [i for i in range(n)]\n",
    "    combination_list = [[] for i in range(n)]\n",
    "\n",
    "    for _ in range(k):\n",
    "        tmp_list = image_list.copy()\n",
    "        random.shuffle(tmp_list)\n",
    "\n",
    "        while len(tmp_list) > 1:\n",
    "            i, j = tmp_list[0], tmp_list[1]\n",
    "            if (i not in combination_list[j]) or (j not in combination_list[i]):\n",
    "                i, j = tmp_list.pop(0), tmp_list.pop(0)\n",
    "                combination_list[i].append(j)\n",
    "                combination_list[j].append(i)\n",
    "            else:\n",
    "                random.shuffle(tmp_list)\n",
    "        \n",
    "    return combination_list\n",
    "\n",
    "\n",
    "def get_combination_list2(n, k):\n",
    "    image_list = [i for i in range(n)]\n",
    "    remain_list = [i for i in range(n)]\n",
    "    combination_list = [[] for i in range(n)]\n",
    "\n",
    "    while (len(remain_list) > 0):\n",
    "        while True:\n",
    "            rand_v1, rand_v2 = np.random.choice(remain_list, 2, replace=False)\n",
    "            if (rand_v1 not in combination_list[rand_v2]):\n",
    "                break\n",
    "\n",
    "        combination_list[rand_v1].append(rand_v2)\n",
    "        combination_list[rand_v2].append(rand_v1)\n",
    "\n",
    "        if (len(combination_list[rand_v1]) >= k):\n",
    "            remain_list.remove(rand_v1)\n",
    "        if (len(combination_list[rand_v2]) >= k):\n",
    "            remain_list.remove(rand_v2)\n",
    "\n",
    "    return combination_list\n",
    "\n",
    "\n",
    "def check_combination_list(combination_list, k):\n",
    "    for i, c_list in enumerate(combination_list):\n",
    "        if len(c_list) != len(set(c_list)):\n",
    "            print(\"duplication : {}\".format(i))\n",
    "        if len(c_list) != k:\n",
    "            print(\"error of nums : {}\".format(i))"
   ]
  },
  {
   "cell_type": "code",
   "execution_count": 5,
   "metadata": {
    "collapsed": true
   },
   "outputs": [],
   "source": [
    "test1 = get_combination_list(n=500, k=10)\n",
    "check_combination_list(test1, 10)"
   ]
  },
  {
   "cell_type": "code",
   "execution_count": 7,
   "metadata": {},
   "outputs": [],
   "source": [
    "test2 = get_combination_list2(n=500, k=10)\n",
    "check_combination_list(test2, 10)"
   ]
  },
  {
   "cell_type": "code",
   "execution_count": 8,
   "metadata": {
    "collapsed": true
   },
   "outputs": [],
   "source": [
    "with open('../pickle/combination500_list.pickle', 'wb') as f:\n",
    "    pickle.dump(test1, f)\n",
    "    \n",
    "with open('../pickle/combination500_list2.pickle', 'wb') as f:\n",
    "    pickle.dump(test2, f)"
   ]
  },
  {
   "cell_type": "code",
   "execution_count": 9,
   "metadata": {
    "collapsed": true
   },
   "outputs": [],
   "source": [
    "def get_random_combination_list(combination_list):\n",
    "    combination_set = set()\n",
    "    for i, clist in enumerate(combination_list):\n",
    "        for c in clist:\n",
    "            tmp_tuple = tuple(sorted([i, c]))\n",
    "            combination_set.add(tmp_tuple)\n",
    "\n",
    "    return random.sample(list(combination_set), len(combination_set))"
   ]
  },
  {
   "cell_type": "code",
   "execution_count": 10,
   "metadata": {},
   "outputs": [],
   "source": [
    "test3 = get_random_combination_list(test1)\n",
    "test4 = get_random_combination_list(test2)"
   ]
  },
  {
   "cell_type": "code",
   "execution_count": 13,
   "metadata": {
    "collapsed": true
   },
   "outputs": [],
   "source": [
    "with open('../pickle/rand_combination500_list.pickle', 'wb') as f:\n",
    "    pickle.dump(test3, f)\n",
    "    \n",
    "with open('../pickle/rand_combination500_list2.pickle', 'wb') as f:\n",
    "    pickle.dump(test4, f)"
   ]
  },
  {
   "cell_type": "code",
   "execution_count": null,
   "metadata": {
    "collapsed": true
   },
   "outputs": [],
   "source": []
  }
 ],
 "metadata": {
  "kernelspec": {
   "display_name": "Python 3",
   "language": "python",
   "name": "python3"
  },
  "language_info": {
   "codemirror_mode": {
    "name": "ipython",
    "version": 3
   },
   "file_extension": ".py",
   "mimetype": "text/x-python",
   "name": "python",
   "nbconvert_exporter": "python",
   "pygments_lexer": "ipython3",
   "version": "3.6.3"
  }
 },
 "nbformat": 4,
 "nbformat_minor": 2
}
